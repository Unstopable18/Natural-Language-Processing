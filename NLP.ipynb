{
  "nbformat": 4,
  "nbformat_minor": 0,
  "metadata": {
    "colab": {
      "provenance": [],
      "authorship_tag": "ABX9TyO9JoKyvYeW+VTehVi9LFpS",
      "include_colab_link": true
    },
    "kernelspec": {
      "name": "python3",
      "display_name": "Python 3"
    },
    "language_info": {
      "name": "python"
    }
  },
  "cells": [
    {
      "cell_type": "markdown",
      "metadata": {
        "id": "view-in-github",
        "colab_type": "text"
      },
      "source": [
        "<a href=\"https://colab.research.google.com/github/VDeshmukhCemtrex/Natural-Language-Processing/blob/main/NLP.ipynb\" target=\"_parent\"><img src=\"https://colab.research.google.com/assets/colab-badge.svg\" alt=\"Open In Colab\"/></a>"
      ]
    },
    {
      "cell_type": "code",
      "execution_count": null,
      "metadata": {
        "id": "Fhy6dh_sV3ep"
      },
      "outputs": [],
      "source": [
        "import nltk\n",
        "import nltk.corpus\n",
        "import os \n",
        "from nltk.tokenize import sent_tokenize, word_tokenize,blankline_tokenize"
      ]
    },
    {
      "cell_type": "code",
      "source": [
        "nltk.download('all')"
      ],
      "metadata": {
        "colab": {
          "base_uri": "https://localhost:8080/"
        },
        "id": "7jLo1JfumnpC",
        "outputId": "194f8e69-e976-4278-acbe-679062c2284c"
      },
      "execution_count": null,
      "outputs": [
        {
          "output_type": "stream",
          "name": "stderr",
          "text": [
            "[nltk_data] Downloading collection 'all'\n",
            "[nltk_data]    | \n",
            "[nltk_data]    | Downloading package abc to /root/nltk_data...\n",
            "[nltk_data]    |   Package abc is already up-to-date!\n",
            "[nltk_data]    | Downloading package alpino to /root/nltk_data...\n",
            "[nltk_data]    |   Package alpino is already up-to-date!\n",
            "[nltk_data]    | Downloading package averaged_perceptron_tagger to\n",
            "[nltk_data]    |     /root/nltk_data...\n",
            "[nltk_data]    |   Package averaged_perceptron_tagger is already up-\n",
            "[nltk_data]    |       to-date!\n",
            "[nltk_data]    | Downloading package averaged_perceptron_tagger_ru to\n",
            "[nltk_data]    |     /root/nltk_data...\n",
            "[nltk_data]    |   Package averaged_perceptron_tagger_ru is already\n",
            "[nltk_data]    |       up-to-date!\n",
            "[nltk_data]    | Downloading package basque_grammars to\n",
            "[nltk_data]    |     /root/nltk_data...\n",
            "[nltk_data]    |   Package basque_grammars is already up-to-date!\n",
            "[nltk_data]    | Downloading package bcp47 to /root/nltk_data...\n",
            "[nltk_data]    |   Package bcp47 is already up-to-date!\n",
            "[nltk_data]    | Downloading package biocreative_ppi to\n",
            "[nltk_data]    |     /root/nltk_data...\n",
            "[nltk_data]    |   Package biocreative_ppi is already up-to-date!\n",
            "[nltk_data]    | Downloading package bllip_wsj_no_aux to\n",
            "[nltk_data]    |     /root/nltk_data...\n",
            "[nltk_data]    |   Package bllip_wsj_no_aux is already up-to-date!\n",
            "[nltk_data]    | Downloading package book_grammars to\n",
            "[nltk_data]    |     /root/nltk_data...\n",
            "[nltk_data]    |   Package book_grammars is already up-to-date!\n",
            "[nltk_data]    | Downloading package brown to /root/nltk_data...\n",
            "[nltk_data]    |   Package brown is already up-to-date!\n",
            "[nltk_data]    | Downloading package brown_tei to /root/nltk_data...\n",
            "[nltk_data]    |   Package brown_tei is already up-to-date!\n",
            "[nltk_data]    | Downloading package cess_cat to /root/nltk_data...\n",
            "[nltk_data]    |   Package cess_cat is already up-to-date!\n",
            "[nltk_data]    | Downloading package cess_esp to /root/nltk_data...\n",
            "[nltk_data]    |   Package cess_esp is already up-to-date!\n",
            "[nltk_data]    | Downloading package chat80 to /root/nltk_data...\n",
            "[nltk_data]    |   Package chat80 is already up-to-date!\n",
            "[nltk_data]    | Downloading package city_database to\n",
            "[nltk_data]    |     /root/nltk_data...\n",
            "[nltk_data]    |   Package city_database is already up-to-date!\n",
            "[nltk_data]    | Downloading package cmudict to /root/nltk_data...\n",
            "[nltk_data]    |   Package cmudict is already up-to-date!\n",
            "[nltk_data]    | Downloading package comparative_sentences to\n",
            "[nltk_data]    |     /root/nltk_data...\n",
            "[nltk_data]    |   Package comparative_sentences is already up-to-\n",
            "[nltk_data]    |       date!\n",
            "[nltk_data]    | Downloading package comtrans to /root/nltk_data...\n",
            "[nltk_data]    |   Package comtrans is already up-to-date!\n",
            "[nltk_data]    | Downloading package conll2000 to /root/nltk_data...\n",
            "[nltk_data]    |   Package conll2000 is already up-to-date!\n",
            "[nltk_data]    | Downloading package conll2002 to /root/nltk_data...\n",
            "[nltk_data]    |   Package conll2002 is already up-to-date!\n",
            "[nltk_data]    | Downloading package conll2007 to /root/nltk_data...\n",
            "[nltk_data]    |   Package conll2007 is already up-to-date!\n",
            "[nltk_data]    | Downloading package crubadan to /root/nltk_data...\n",
            "[nltk_data]    |   Package crubadan is already up-to-date!\n",
            "[nltk_data]    | Downloading package dependency_treebank to\n",
            "[nltk_data]    |     /root/nltk_data...\n",
            "[nltk_data]    |   Package dependency_treebank is already up-to-date!\n",
            "[nltk_data]    | Downloading package dolch to /root/nltk_data...\n",
            "[nltk_data]    |   Package dolch is already up-to-date!\n",
            "[nltk_data]    | Downloading package europarl_raw to\n",
            "[nltk_data]    |     /root/nltk_data...\n",
            "[nltk_data]    |   Package europarl_raw is already up-to-date!\n",
            "[nltk_data]    | Downloading package extended_omw to\n",
            "[nltk_data]    |     /root/nltk_data...\n",
            "[nltk_data]    |   Package extended_omw is already up-to-date!\n",
            "[nltk_data]    | Downloading package floresta to /root/nltk_data...\n",
            "[nltk_data]    |   Package floresta is already up-to-date!\n",
            "[nltk_data]    | Downloading package framenet_v15 to\n",
            "[nltk_data]    |     /root/nltk_data...\n",
            "[nltk_data]    |   Package framenet_v15 is already up-to-date!\n",
            "[nltk_data]    | Downloading package framenet_v17 to\n",
            "[nltk_data]    |     /root/nltk_data...\n",
            "[nltk_data]    |   Package framenet_v17 is already up-to-date!\n",
            "[nltk_data]    | Downloading package gazetteers to /root/nltk_data...\n",
            "[nltk_data]    |   Package gazetteers is already up-to-date!\n",
            "[nltk_data]    | Downloading package genesis to /root/nltk_data...\n",
            "[nltk_data]    |   Package genesis is already up-to-date!\n",
            "[nltk_data]    | Downloading package gutenberg to /root/nltk_data...\n",
            "[nltk_data]    |   Package gutenberg is already up-to-date!\n",
            "[nltk_data]    | Downloading package ieer to /root/nltk_data...\n",
            "[nltk_data]    |   Package ieer is already up-to-date!\n",
            "[nltk_data]    | Downloading package inaugural to /root/nltk_data...\n",
            "[nltk_data]    |   Package inaugural is already up-to-date!\n",
            "[nltk_data]    | Downloading package indian to /root/nltk_data...\n",
            "[nltk_data]    |   Package indian is already up-to-date!\n",
            "[nltk_data]    | Downloading package jeita to /root/nltk_data...\n",
            "[nltk_data]    |   Package jeita is already up-to-date!\n",
            "[nltk_data]    | Downloading package kimmo to /root/nltk_data...\n",
            "[nltk_data]    |   Package kimmo is already up-to-date!\n",
            "[nltk_data]    | Downloading package knbc to /root/nltk_data...\n",
            "[nltk_data]    |   Package knbc is already up-to-date!\n",
            "[nltk_data]    | Downloading package large_grammars to\n",
            "[nltk_data]    |     /root/nltk_data...\n",
            "[nltk_data]    |   Package large_grammars is already up-to-date!\n",
            "[nltk_data]    | Downloading package lin_thesaurus to\n",
            "[nltk_data]    |     /root/nltk_data...\n",
            "[nltk_data]    |   Package lin_thesaurus is already up-to-date!\n",
            "[nltk_data]    | Downloading package mac_morpho to /root/nltk_data...\n",
            "[nltk_data]    |   Package mac_morpho is already up-to-date!\n",
            "[nltk_data]    | Downloading package machado to /root/nltk_data...\n",
            "[nltk_data]    |   Package machado is already up-to-date!\n",
            "[nltk_data]    | Downloading package masc_tagged to /root/nltk_data...\n",
            "[nltk_data]    |   Package masc_tagged is already up-to-date!\n",
            "[nltk_data]    | Downloading package maxent_ne_chunker to\n",
            "[nltk_data]    |     /root/nltk_data...\n",
            "[nltk_data]    |   Package maxent_ne_chunker is already up-to-date!\n",
            "[nltk_data]    | Downloading package maxent_treebank_pos_tagger to\n",
            "[nltk_data]    |     /root/nltk_data...\n",
            "[nltk_data]    |   Package maxent_treebank_pos_tagger is already up-\n",
            "[nltk_data]    |       to-date!\n",
            "[nltk_data]    | Downloading package moses_sample to\n",
            "[nltk_data]    |     /root/nltk_data...\n",
            "[nltk_data]    |   Package moses_sample is already up-to-date!\n",
            "[nltk_data]    | Downloading package movie_reviews to\n",
            "[nltk_data]    |     /root/nltk_data...\n",
            "[nltk_data]    |   Package movie_reviews is already up-to-date!\n",
            "[nltk_data]    | Downloading package mte_teip5 to /root/nltk_data...\n",
            "[nltk_data]    |   Package mte_teip5 is already up-to-date!\n",
            "[nltk_data]    | Downloading package mwa_ppdb to /root/nltk_data...\n",
            "[nltk_data]    |   Package mwa_ppdb is already up-to-date!\n",
            "[nltk_data]    | Downloading package names to /root/nltk_data...\n",
            "[nltk_data]    |   Package names is already up-to-date!\n",
            "[nltk_data]    | Downloading package nombank.1.0 to /root/nltk_data...\n",
            "[nltk_data]    |   Package nombank.1.0 is already up-to-date!\n",
            "[nltk_data]    | Downloading package nonbreaking_prefixes to\n",
            "[nltk_data]    |     /root/nltk_data...\n",
            "[nltk_data]    |   Package nonbreaking_prefixes is already up-to-date!\n",
            "[nltk_data]    | Downloading package nps_chat to /root/nltk_data...\n",
            "[nltk_data]    |   Package nps_chat is already up-to-date!\n",
            "[nltk_data]    | Downloading package omw to /root/nltk_data...\n",
            "[nltk_data]    |   Package omw is already up-to-date!\n",
            "[nltk_data]    | Downloading package omw-1.4 to /root/nltk_data...\n",
            "[nltk_data]    |   Package omw-1.4 is already up-to-date!\n",
            "[nltk_data]    | Downloading package opinion_lexicon to\n",
            "[nltk_data]    |     /root/nltk_data...\n",
            "[nltk_data]    |   Package opinion_lexicon is already up-to-date!\n",
            "[nltk_data]    | Downloading package panlex_swadesh to\n",
            "[nltk_data]    |     /root/nltk_data...\n",
            "[nltk_data]    |   Package panlex_swadesh is already up-to-date!\n",
            "[nltk_data]    | Downloading package paradigms to /root/nltk_data...\n",
            "[nltk_data]    |   Package paradigms is already up-to-date!\n",
            "[nltk_data]    | Downloading package pe08 to /root/nltk_data...\n",
            "[nltk_data]    |   Package pe08 is already up-to-date!\n",
            "[nltk_data]    | Downloading package perluniprops to\n",
            "[nltk_data]    |     /root/nltk_data...\n",
            "[nltk_data]    |   Package perluniprops is already up-to-date!\n",
            "[nltk_data]    | Downloading package pil to /root/nltk_data...\n",
            "[nltk_data]    |   Package pil is already up-to-date!\n",
            "[nltk_data]    | Downloading package pl196x to /root/nltk_data...\n",
            "[nltk_data]    |   Package pl196x is already up-to-date!\n",
            "[nltk_data]    | Downloading package porter_test to /root/nltk_data...\n",
            "[nltk_data]    |   Package porter_test is already up-to-date!\n",
            "[nltk_data]    | Downloading package ppattach to /root/nltk_data...\n",
            "[nltk_data]    |   Package ppattach is already up-to-date!\n",
            "[nltk_data]    | Downloading package problem_reports to\n",
            "[nltk_data]    |     /root/nltk_data...\n",
            "[nltk_data]    |   Package problem_reports is already up-to-date!\n",
            "[nltk_data]    | Downloading package product_reviews_1 to\n",
            "[nltk_data]    |     /root/nltk_data...\n",
            "[nltk_data]    |   Package product_reviews_1 is already up-to-date!\n",
            "[nltk_data]    | Downloading package product_reviews_2 to\n",
            "[nltk_data]    |     /root/nltk_data...\n",
            "[nltk_data]    |   Package product_reviews_2 is already up-to-date!\n",
            "[nltk_data]    | Downloading package propbank to /root/nltk_data...\n",
            "[nltk_data]    |   Package propbank is already up-to-date!\n",
            "[nltk_data]    | Downloading package pros_cons to /root/nltk_data...\n",
            "[nltk_data]    |   Package pros_cons is already up-to-date!\n",
            "[nltk_data]    | Downloading package ptb to /root/nltk_data...\n",
            "[nltk_data]    |   Package ptb is already up-to-date!\n",
            "[nltk_data]    | Downloading package punkt to /root/nltk_data...\n",
            "[nltk_data]    |   Package punkt is already up-to-date!\n",
            "[nltk_data]    | Downloading package qc to /root/nltk_data...\n",
            "[nltk_data]    |   Package qc is already up-to-date!\n",
            "[nltk_data]    | Downloading package reuters to /root/nltk_data...\n",
            "[nltk_data]    |   Package reuters is already up-to-date!\n",
            "[nltk_data]    | Downloading package rslp to /root/nltk_data...\n",
            "[nltk_data]    |   Package rslp is already up-to-date!\n",
            "[nltk_data]    | Downloading package rte to /root/nltk_data...\n",
            "[nltk_data]    |   Package rte is already up-to-date!\n",
            "[nltk_data]    | Downloading package sample_grammars to\n",
            "[nltk_data]    |     /root/nltk_data...\n",
            "[nltk_data]    |   Package sample_grammars is already up-to-date!\n",
            "[nltk_data]    | Downloading package semcor to /root/nltk_data...\n",
            "[nltk_data]    |   Package semcor is already up-to-date!\n",
            "[nltk_data]    | Downloading package senseval to /root/nltk_data...\n",
            "[nltk_data]    |   Package senseval is already up-to-date!\n",
            "[nltk_data]    | Downloading package sentence_polarity to\n",
            "[nltk_data]    |     /root/nltk_data...\n",
            "[nltk_data]    |   Package sentence_polarity is already up-to-date!\n",
            "[nltk_data]    | Downloading package sentiwordnet to\n",
            "[nltk_data]    |     /root/nltk_data...\n",
            "[nltk_data]    |   Package sentiwordnet is already up-to-date!\n",
            "[nltk_data]    | Downloading package shakespeare to /root/nltk_data...\n",
            "[nltk_data]    |   Package shakespeare is already up-to-date!\n",
            "[nltk_data]    | Downloading package sinica_treebank to\n",
            "[nltk_data]    |     /root/nltk_data...\n",
            "[nltk_data]    |   Package sinica_treebank is already up-to-date!\n",
            "[nltk_data]    | Downloading package smultron to /root/nltk_data...\n",
            "[nltk_data]    |   Package smultron is already up-to-date!\n",
            "[nltk_data]    | Downloading package snowball_data to\n",
            "[nltk_data]    |     /root/nltk_data...\n",
            "[nltk_data]    |   Package snowball_data is already up-to-date!\n",
            "[nltk_data]    | Downloading package spanish_grammars to\n",
            "[nltk_data]    |     /root/nltk_data...\n",
            "[nltk_data]    |   Package spanish_grammars is already up-to-date!\n",
            "[nltk_data]    | Downloading package state_union to /root/nltk_data...\n",
            "[nltk_data]    |   Package state_union is already up-to-date!\n",
            "[nltk_data]    | Downloading package stopwords to /root/nltk_data...\n",
            "[nltk_data]    |   Package stopwords is already up-to-date!\n",
            "[nltk_data]    | Downloading package subjectivity to\n",
            "[nltk_data]    |     /root/nltk_data...\n",
            "[nltk_data]    |   Package subjectivity is already up-to-date!\n",
            "[nltk_data]    | Downloading package swadesh to /root/nltk_data...\n",
            "[nltk_data]    |   Package swadesh is already up-to-date!\n",
            "[nltk_data]    | Downloading package switchboard to /root/nltk_data...\n",
            "[nltk_data]    |   Package switchboard is already up-to-date!\n",
            "[nltk_data]    | Downloading package tagsets to /root/nltk_data...\n",
            "[nltk_data]    |   Package tagsets is already up-to-date!\n",
            "[nltk_data]    | Downloading package timit to /root/nltk_data...\n",
            "[nltk_data]    |   Package timit is already up-to-date!\n",
            "[nltk_data]    | Downloading package toolbox to /root/nltk_data...\n",
            "[nltk_data]    |   Package toolbox is already up-to-date!\n",
            "[nltk_data]    | Downloading package treebank to /root/nltk_data...\n",
            "[nltk_data]    |   Package treebank is already up-to-date!\n",
            "[nltk_data]    | Downloading package twitter_samples to\n",
            "[nltk_data]    |     /root/nltk_data...\n",
            "[nltk_data]    |   Package twitter_samples is already up-to-date!\n",
            "[nltk_data]    | Downloading package udhr to /root/nltk_data...\n",
            "[nltk_data]    |   Package udhr is already up-to-date!\n",
            "[nltk_data]    | Downloading package udhr2 to /root/nltk_data...\n",
            "[nltk_data]    |   Package udhr2 is already up-to-date!\n",
            "[nltk_data]    | Downloading package unicode_samples to\n",
            "[nltk_data]    |     /root/nltk_data...\n",
            "[nltk_data]    |   Package unicode_samples is already up-to-date!\n",
            "[nltk_data]    | Downloading package universal_tagset to\n",
            "[nltk_data]    |     /root/nltk_data...\n",
            "[nltk_data]    |   Package universal_tagset is already up-to-date!\n",
            "[nltk_data]    | Downloading package universal_treebanks_v20 to\n",
            "[nltk_data]    |     /root/nltk_data...\n",
            "[nltk_data]    |   Package universal_treebanks_v20 is already up-to-\n",
            "[nltk_data]    |       date!\n",
            "[nltk_data]    | Downloading package vader_lexicon to\n",
            "[nltk_data]    |     /root/nltk_data...\n",
            "[nltk_data]    |   Package vader_lexicon is already up-to-date!\n",
            "[nltk_data]    | Downloading package verbnet to /root/nltk_data...\n",
            "[nltk_data]    |   Package verbnet is already up-to-date!\n",
            "[nltk_data]    | Downloading package verbnet3 to /root/nltk_data...\n",
            "[nltk_data]    |   Package verbnet3 is already up-to-date!\n",
            "[nltk_data]    | Downloading package webtext to /root/nltk_data...\n",
            "[nltk_data]    |   Package webtext is already up-to-date!\n",
            "[nltk_data]    | Downloading package wmt15_eval to /root/nltk_data...\n",
            "[nltk_data]    |   Package wmt15_eval is already up-to-date!\n",
            "[nltk_data]    | Downloading package word2vec_sample to\n",
            "[nltk_data]    |     /root/nltk_data...\n",
            "[nltk_data]    |   Package word2vec_sample is already up-to-date!\n",
            "[nltk_data]    | Downloading package wordnet to /root/nltk_data...\n",
            "[nltk_data]    |   Package wordnet is already up-to-date!\n",
            "[nltk_data]    | Downloading package wordnet2021 to /root/nltk_data...\n",
            "[nltk_data]    |   Package wordnet2021 is already up-to-date!\n",
            "[nltk_data]    | Downloading package wordnet31 to /root/nltk_data...\n",
            "[nltk_data]    |   Package wordnet31 is already up-to-date!\n",
            "[nltk_data]    | Downloading package wordnet_ic to /root/nltk_data...\n",
            "[nltk_data]    |   Package wordnet_ic is already up-to-date!\n",
            "[nltk_data]    | Downloading package words to /root/nltk_data...\n",
            "[nltk_data]    |   Package words is already up-to-date!\n",
            "[nltk_data]    | Downloading package ycoe to /root/nltk_data...\n",
            "[nltk_data]    |   Package ycoe is already up-to-date!\n",
            "[nltk_data]    | \n",
            "[nltk_data]  Done downloading collection all\n"
          ]
        },
        {
          "output_type": "execute_result",
          "data": {
            "text/plain": [
              "True"
            ]
          },
          "metadata": {},
          "execution_count": 24
        }
      ]
    },
    {
      "cell_type": "code",
      "source": [
        "print(os.listdir(nltk.data.find(\"corpora\")))"
      ],
      "metadata": {
        "colab": {
          "base_uri": "https://localhost:8080/"
        },
        "id": "Utv0-CtpoonR",
        "outputId": "a0e88d28-ae88-4aa5-f00f-4fbbb2d87cc1"
      },
      "execution_count": null,
      "outputs": [
        {
          "output_type": "stream",
          "name": "stdout",
          "text": [
            "['alpino.zip', 'udhr.zip', 'conll2007.zip', 'cess_cat', 'qc.zip', 'chat80', 'indian', 'mac_morpho', 'sentence_polarity.zip', 'dolch.zip', 'gutenberg.zip', 'kimmo', 'gazetteers.zip', 'brown.zip', 'brown_tei.zip', 'smultron.zip', 'lin_thesaurus.zip', 'framenet_v17.zip', 'pe08.zip', 'subjectivity', 'pros_cons.zip', 'nps_chat', 'ycoe', 'genesis', 'masc_tagged.zip', 'cmudict.zip', 'opinion_lexicon.zip', 'brown_tei', 'lin_thesaurus', 'twitter_samples', 'product_reviews_2', 'sentiwordnet.zip', 'sinica_treebank.zip', 'paradigms', 'indian.zip', 'treebank', 'nonbreaking_prefixes.zip', 'biocreative_ppi', 'toolbox', 'subjectivity.zip', 'ieer.zip', 'wordnet_ic.zip', 'conll2000', 'verbnet.zip', 'jeita.zip', 'problem_reports.zip', 'mte_teip5.zip', 'nonbreaking_prefixes', 'wordnet2021.zip', 'floresta', 'sentiwordnet', 'swadesh', 'verbnet', 'shakespeare.zip', 'genesis.zip', 'alpino', 'extended_omw.zip', 'propbank.zip', 'mac_morpho.zip', 'pil.zip', 'names.zip', 'shakespeare', 'crubadan', 'omw-1.4.zip', 'names', 'movie_reviews', 'ptb.zip', 'pl196x.zip', 'smultron', 'nombank.1.0.zip', 'treebank.zip', 'sinica_treebank', 'rte', 'ppattach', 'framenet_v17', 'europarl_raw', 'product_reviews_1', 'stopwords.zip', 'qc', 'conll2002', 'stopwords', 'bcp47.zip', 'product_reviews_2.zip', 'wordnet.zip', 'udhr2', 'paradigms.zip', 'ieer', 'pl196x', 'pros_cons', 'udhr2.zip', 'dependency_treebank', 'unicode_samples', 'dolch', 'toolbox.zip', 'movie_reviews.zip', 'inaugural', 'switchboard.zip', 'mte_teip5', 'gazetteers', 'comtrans.zip', 'sentence_polarity', 'europarl_raw.zip', 'words.zip', 'timit.zip', 'timit', 'brown', 'product_reviews_1.zip', 'unicode_samples.zip', 'pe08', 'semcor.zip', 'abc.zip', 'verbnet3.zip', 'knbc.zip', 'gutenberg', 'biocreative_ppi.zip', 'city_database', 'kimmo.zip', 'machado.zip', 'comparative_sentences', 'twitter_samples.zip', 'framenet_v15.zip', 'state_union.zip', 'wordnet31.zip', 'cess_esp', 'nps_chat.zip', 'webtext', 'comparative_sentences.zip', 'senseval.zip', 'ptb', 'panlex_swadesh.zip', 'senseval', 'pil', 'conll2000.zip', 'floresta.zip', 'cmudict', 'abc', 'ppattach.zip', 'rte.zip', 'state_union', 'wordnet_ic', 'switchboard', 'ycoe.zip', 'cess_esp.zip', 'swadesh.zip', 'chat80.zip', 'words', 'conll2002.zip', 'crubadan.zip', 'udhr', 'city_database.zip', 'opinion_lexicon', 'webtext.zip', 'cess_cat.zip', 'reuters.zip', 'framenet_v15', 'universal_treebanks_v20.zip', 'omw.zip', 'verbnet3', 'problem_reports', 'dependency_treebank.zip', 'inaugural.zip']\n"
          ]
        }
      ]
    },
    {
      "cell_type": "code",
      "source": [
        "from nltk.corpus import brown"
      ],
      "metadata": {
        "id": "B9exGR3TpMO1"
      },
      "execution_count": null,
      "outputs": []
    },
    {
      "cell_type": "code",
      "source": [
        "brown.words()"
      ],
      "metadata": {
        "colab": {
          "base_uri": "https://localhost:8080/"
        },
        "id": "o3XONIEGqjsb",
        "outputId": "f8dc9218-6c65-4d88-e1b7-33aca547d748"
      },
      "execution_count": null,
      "outputs": [
        {
          "output_type": "execute_result",
          "data": {
            "text/plain": [
              "['The', 'Fulton', 'County', 'Grand', 'Jury', 'said', ...]"
            ]
          },
          "metadata": {},
          "execution_count": 27
        }
      ]
    },
    {
      "cell_type": "code",
      "source": [
        "nltk.corpus.gutenberg.fileids()"
      ],
      "metadata": {
        "colab": {
          "base_uri": "https://localhost:8080/"
        },
        "id": "jXFP4k7fqm5j",
        "outputId": "a97b0490-76f3-42ea-fcfe-1d477503dadb"
      },
      "execution_count": null,
      "outputs": [
        {
          "output_type": "execute_result",
          "data": {
            "text/plain": [
              "['austen-emma.txt',\n",
              " 'austen-persuasion.txt',\n",
              " 'austen-sense.txt',\n",
              " 'bible-kjv.txt',\n",
              " 'blake-poems.txt',\n",
              " 'bryant-stories.txt',\n",
              " 'burgess-busterbrown.txt',\n",
              " 'carroll-alice.txt',\n",
              " 'chesterton-ball.txt',\n",
              " 'chesterton-brown.txt',\n",
              " 'chesterton-thursday.txt',\n",
              " 'edgeworth-parents.txt',\n",
              " 'melville-moby_dick.txt',\n",
              " 'milton-paradise.txt',\n",
              " 'shakespeare-caesar.txt',\n",
              " 'shakespeare-hamlet.txt',\n",
              " 'shakespeare-macbeth.txt',\n",
              " 'whitman-leaves.txt']"
            ]
          },
          "metadata": {},
          "execution_count": 28
        }
      ]
    },
    {
      "cell_type": "code",
      "source": [
        "hamlet=nltk.corpus.gutenberg.words('shakespeare-hamlet.txt')\n",
        "hamlet"
      ],
      "metadata": {
        "colab": {
          "base_uri": "https://localhost:8080/"
        },
        "id": "pENA4X51qv7q",
        "outputId": "f42e7707-14f0-4de2-8285-c70ebe8f9303"
      },
      "execution_count": null,
      "outputs": [
        {
          "output_type": "execute_result",
          "data": {
            "text/plain": [
              "['[', 'The', 'Tragedie', 'of', 'Hamlet', 'by', ...]"
            ]
          },
          "metadata": {},
          "execution_count": 29
        }
      ]
    },
    {
      "cell_type": "code",
      "source": [
        "for word in hamlet[:500]:\n",
        "  print(word,sep=' ',end=' ')"
      ],
      "metadata": {
        "colab": {
          "base_uri": "https://localhost:8080/"
        },
        "id": "5O7rwfU9rUgx",
        "outputId": "e17b93e5-ffd8-4a61-d5b6-6454f33836b8"
      },
      "execution_count": null,
      "outputs": [
        {
          "output_type": "stream",
          "name": "stdout",
          "text": [
            "[ The Tragedie of Hamlet by William Shakespeare 1599 ] Actus Primus . Scoena Prima . Enter Barnardo and Francisco two Centinels . Barnardo . Who ' s there ? Fran . Nay answer me : Stand & vnfold your selfe Bar . Long liue the King Fran . Barnardo ? Bar . He Fran . You come most carefully vpon your houre Bar . ' Tis now strook twelue , get thee to bed Francisco Fran . For this releefe much thankes : ' Tis bitter cold , And I am sicke at heart Barn . Haue you had quiet Guard ? Fran . Not a Mouse stirring Barn . Well , goodnight . If you do meet Horatio and Marcellus , the Riuals of my Watch , bid them make hast . Enter Horatio and Marcellus . Fran . I thinke I heare them . Stand : who ' s there ? Hor . Friends to this ground Mar . And Leige - men to the Dane Fran . Giue you good night Mar . O farwel honest Soldier , who hath relieu ' d you ? Fra . Barnardo ha ' s my place : giue you goodnight . Exit Fran . Mar . Holla Barnardo Bar . Say , what is Horatio there ? Hor . A peece of him Bar . Welcome Horatio , welcome good Marcellus Mar . What , ha ' s this thing appear ' d againe to night Bar . I haue seene nothing Mar . Horatio saies , ' tis but our Fantasie , And will not let beleefe take hold of him Touching this dreaded sight , twice seene of vs , Therefore I haue intreated him along With vs , to watch the minutes of this Night , That if againe this Apparition come , He may approue our eyes , and speake to it Hor . Tush , tush , ' twill not appeare Bar . Sit downe a - while , And let vs once againe assaile your eares , That are so fortified against our Story , What we two Nights haue seene Hor . Well , sit we downe , And let vs heare Barnardo speake of this Barn . Last night of all , When yond same Starre that ' s Westward from the Pole Had made his course t ' illume that part of Heauen Where now it burnes , Marcellus and my selfe , The Bell then beating one Mar . Peace , breake thee of : Enter the Ghost . Looke where it comes againe Barn . In the same figure , like the King that ' s dead Mar . Thou art a Scholler ; speake to it Horatio Barn . Lookes it not like the King ? Marke it Horatio Hora . Most like : It harrowes me with fear & wonder Barn . It would be spoke too Mar . Question it Horatio Hor . What art "
          ]
        }
      ]
    },
    {
      "cell_type": "code",
      "source": [
        "AI =\"\"\"According to the father of Artificial Intelligence, John McCarthy, it is “The science and engineering of making intelligent machines, especially intelligent computer programs”. \n",
        "\n",
        "Artificial Intelligence is a way of making a computer, a computer-controlled robot, or a software think intelligently, in the similar manner the intelligent humans think. \n",
        "\n",
        "AI is accomplished by studying how human brain thinks, and how humans learn, decide, and work while trying to solve a problem, and then using the outcomes of this study as a basis of developing intelligent software and systems. \n",
        "While exploiting the power of the computer systems, the curiosity of human, lead him to wonder, “Can a machine think and behave like humans do?” Thus, the development of AI started with the intention of creating similar intelligence in machines that we find and regard high in humans. \n",
        "To Create Expert Systems − The systems which exhibit intelligent behavior, learn, demonstrate, explain, and advice its users. \n",
        "To Implement Human Intelligence in Machines − Creating systems that understand, think, learn, and behave like humans. \n",
        "Artificial intelligence is a science and technology based on disciplines such as Computer Science, Biology, Psychology, Linguistics, Mathematics, and Engineering. \n",
        "A major thrust of AI is in the development of computer functions associated with human intelligence, such as reasoning, learning, and problem solving. \n",
        "Out of the following areas, one or multiple areas can contribute to build an intelligent system. \"\"\""
      ],
      "metadata": {
        "id": "HmZ5WQCbrolP"
      },
      "execution_count": 45,
      "outputs": []
    },
    {
      "cell_type": "code",
      "source": [
        "sent_tokenize(AI)"
      ],
      "metadata": {
        "colab": {
          "base_uri": "https://localhost:8080/"
        },
        "id": "w5d7xiRXueqw",
        "outputId": "817271d2-3100-46c5-bc17-200e91c13380"
      },
      "execution_count": 46,
      "outputs": [
        {
          "output_type": "execute_result",
          "data": {
            "text/plain": [
              "['According to the father of Artificial Intelligence, John McCarthy, it is “The science and engineering of making intelligent machines, especially intelligent computer programs”.',\n",
              " 'Artificial Intelligence is a way of making a computer, a computer-controlled robot, or a software think intelligently, in the similar manner the intelligent humans think.',\n",
              " 'AI is accomplished by studying how human brain thinks, and how humans learn, decide, and work while trying to solve a problem, and then using the outcomes of this study as a basis of developing intelligent software and systems.',\n",
              " 'While exploiting the power of the computer systems, the curiosity of human, lead him to wonder, “Can a machine think and behave like humans do?” Thus, the development of AI started with the intention of creating similar intelligence in machines that we find and regard high in humans.',\n",
              " 'To Create Expert Systems − The systems which exhibit intelligent behavior, learn, demonstrate, explain, and advice its users.',\n",
              " 'To Implement Human Intelligence in Machines − Creating systems that understand, think, learn, and behave like humans.',\n",
              " 'Artificial intelligence is a science and technology based on disciplines such as Computer Science, Biology, Psychology, Linguistics, Mathematics, and Engineering.',\n",
              " 'A major thrust of AI is in the development of computer functions associated with human intelligence, such as reasoning, learning, and problem solving.',\n",
              " 'Out of the following areas, one or multiple areas can contribute to build an intelligent system.']"
            ]
          },
          "metadata": {},
          "execution_count": 46
        }
      ]
    },
    {
      "cell_type": "code",
      "source": [
        "AI_word_tokens=word_tokenize(AI)\n",
        "AI_word_tokens"
      ],
      "metadata": {
        "colab": {
          "base_uri": "https://localhost:8080/"
        },
        "id": "CFbGuvtEugGw",
        "outputId": "52c31eef-96fb-404e-bbd4-0fb2f6828e6d"
      },
      "execution_count": 47,
      "outputs": [
        {
          "output_type": "execute_result",
          "data": {
            "text/plain": [
              "['According',\n",
              " 'to',\n",
              " 'the',\n",
              " 'father',\n",
              " 'of',\n",
              " 'Artificial',\n",
              " 'Intelligence',\n",
              " ',',\n",
              " 'John',\n",
              " 'McCarthy',\n",
              " ',',\n",
              " 'it',\n",
              " 'is',\n",
              " '“',\n",
              " 'The',\n",
              " 'science',\n",
              " 'and',\n",
              " 'engineering',\n",
              " 'of',\n",
              " 'making',\n",
              " 'intelligent',\n",
              " 'machines',\n",
              " ',',\n",
              " 'especially',\n",
              " 'intelligent',\n",
              " 'computer',\n",
              " 'programs',\n",
              " '”',\n",
              " '.',\n",
              " 'Artificial',\n",
              " 'Intelligence',\n",
              " 'is',\n",
              " 'a',\n",
              " 'way',\n",
              " 'of',\n",
              " 'making',\n",
              " 'a',\n",
              " 'computer',\n",
              " ',',\n",
              " 'a',\n",
              " 'computer-controlled',\n",
              " 'robot',\n",
              " ',',\n",
              " 'or',\n",
              " 'a',\n",
              " 'software',\n",
              " 'think',\n",
              " 'intelligently',\n",
              " ',',\n",
              " 'in',\n",
              " 'the',\n",
              " 'similar',\n",
              " 'manner',\n",
              " 'the',\n",
              " 'intelligent',\n",
              " 'humans',\n",
              " 'think',\n",
              " '.',\n",
              " 'AI',\n",
              " 'is',\n",
              " 'accomplished',\n",
              " 'by',\n",
              " 'studying',\n",
              " 'how',\n",
              " 'human',\n",
              " 'brain',\n",
              " 'thinks',\n",
              " ',',\n",
              " 'and',\n",
              " 'how',\n",
              " 'humans',\n",
              " 'learn',\n",
              " ',',\n",
              " 'decide',\n",
              " ',',\n",
              " 'and',\n",
              " 'work',\n",
              " 'while',\n",
              " 'trying',\n",
              " 'to',\n",
              " 'solve',\n",
              " 'a',\n",
              " 'problem',\n",
              " ',',\n",
              " 'and',\n",
              " 'then',\n",
              " 'using',\n",
              " 'the',\n",
              " 'outcomes',\n",
              " 'of',\n",
              " 'this',\n",
              " 'study',\n",
              " 'as',\n",
              " 'a',\n",
              " 'basis',\n",
              " 'of',\n",
              " 'developing',\n",
              " 'intelligent',\n",
              " 'software',\n",
              " 'and',\n",
              " 'systems',\n",
              " '.',\n",
              " 'While',\n",
              " 'exploiting',\n",
              " 'the',\n",
              " 'power',\n",
              " 'of',\n",
              " 'the',\n",
              " 'computer',\n",
              " 'systems',\n",
              " ',',\n",
              " 'the',\n",
              " 'curiosity',\n",
              " 'of',\n",
              " 'human',\n",
              " ',',\n",
              " 'lead',\n",
              " 'him',\n",
              " 'to',\n",
              " 'wonder',\n",
              " ',',\n",
              " '“',\n",
              " 'Can',\n",
              " 'a',\n",
              " 'machine',\n",
              " 'think',\n",
              " 'and',\n",
              " 'behave',\n",
              " 'like',\n",
              " 'humans',\n",
              " 'do',\n",
              " '?',\n",
              " '”',\n",
              " 'Thus',\n",
              " ',',\n",
              " 'the',\n",
              " 'development',\n",
              " 'of',\n",
              " 'AI',\n",
              " 'started',\n",
              " 'with',\n",
              " 'the',\n",
              " 'intention',\n",
              " 'of',\n",
              " 'creating',\n",
              " 'similar',\n",
              " 'intelligence',\n",
              " 'in',\n",
              " 'machines',\n",
              " 'that',\n",
              " 'we',\n",
              " 'find',\n",
              " 'and',\n",
              " 'regard',\n",
              " 'high',\n",
              " 'in',\n",
              " 'humans',\n",
              " '.',\n",
              " 'To',\n",
              " 'Create',\n",
              " 'Expert',\n",
              " 'Systems',\n",
              " '−',\n",
              " 'The',\n",
              " 'systems',\n",
              " 'which',\n",
              " 'exhibit',\n",
              " 'intelligent',\n",
              " 'behavior',\n",
              " ',',\n",
              " 'learn',\n",
              " ',',\n",
              " 'demonstrate',\n",
              " ',',\n",
              " 'explain',\n",
              " ',',\n",
              " 'and',\n",
              " 'advice',\n",
              " 'its',\n",
              " 'users',\n",
              " '.',\n",
              " 'To',\n",
              " 'Implement',\n",
              " 'Human',\n",
              " 'Intelligence',\n",
              " 'in',\n",
              " 'Machines',\n",
              " '−',\n",
              " 'Creating',\n",
              " 'systems',\n",
              " 'that',\n",
              " 'understand',\n",
              " ',',\n",
              " 'think',\n",
              " ',',\n",
              " 'learn',\n",
              " ',',\n",
              " 'and',\n",
              " 'behave',\n",
              " 'like',\n",
              " 'humans',\n",
              " '.',\n",
              " 'Artificial',\n",
              " 'intelligence',\n",
              " 'is',\n",
              " 'a',\n",
              " 'science',\n",
              " 'and',\n",
              " 'technology',\n",
              " 'based',\n",
              " 'on',\n",
              " 'disciplines',\n",
              " 'such',\n",
              " 'as',\n",
              " 'Computer',\n",
              " 'Science',\n",
              " ',',\n",
              " 'Biology',\n",
              " ',',\n",
              " 'Psychology',\n",
              " ',',\n",
              " 'Linguistics',\n",
              " ',',\n",
              " 'Mathematics',\n",
              " ',',\n",
              " 'and',\n",
              " 'Engineering',\n",
              " '.',\n",
              " 'A',\n",
              " 'major',\n",
              " 'thrust',\n",
              " 'of',\n",
              " 'AI',\n",
              " 'is',\n",
              " 'in',\n",
              " 'the',\n",
              " 'development',\n",
              " 'of',\n",
              " 'computer',\n",
              " 'functions',\n",
              " 'associated',\n",
              " 'with',\n",
              " 'human',\n",
              " 'intelligence',\n",
              " ',',\n",
              " 'such',\n",
              " 'as',\n",
              " 'reasoning',\n",
              " ',',\n",
              " 'learning',\n",
              " ',',\n",
              " 'and',\n",
              " 'problem',\n",
              " 'solving',\n",
              " '.',\n",
              " 'Out',\n",
              " 'of',\n",
              " 'the',\n",
              " 'following',\n",
              " 'areas',\n",
              " ',',\n",
              " 'one',\n",
              " 'or',\n",
              " 'multiple',\n",
              " 'areas',\n",
              " 'can',\n",
              " 'contribute',\n",
              " 'to',\n",
              " 'build',\n",
              " 'an',\n",
              " 'intelligent',\n",
              " 'system',\n",
              " '.']"
            ]
          },
          "metadata": {},
          "execution_count": 47
        }
      ]
    },
    {
      "cell_type": "code",
      "source": [
        "len(AI_word_tokens)"
      ],
      "metadata": {
        "colab": {
          "base_uri": "https://localhost:8080/"
        },
        "id": "7fqluJTH-7Zh",
        "outputId": "8d941a44-b70a-4056-872d-2efa4207bfab"
      },
      "execution_count": 48,
      "outputs": [
        {
          "output_type": "execute_result",
          "data": {
            "text/plain": [
              "273"
            ]
          },
          "metadata": {},
          "execution_count": 48
        }
      ]
    },
    {
      "cell_type": "code",
      "source": [
        "from nltk.probability import FreqDist\n",
        "fdist=FreqDist()"
      ],
      "metadata": {
        "id": "Kp46O-g1_g-v"
      },
      "execution_count": 49,
      "outputs": []
    },
    {
      "cell_type": "code",
      "source": [
        "for word in AI_word_tokens:\n",
        "  fdist[word.lower()]+=1\n",
        "fdist"
      ],
      "metadata": {
        "colab": {
          "base_uri": "https://localhost:8080/"
        },
        "id": "reLBpNRH_rYJ",
        "outputId": "dc0160fb-ab5d-47f9-edad-3136476def99"
      },
      "execution_count": 50,
      "outputs": [
        {
          "output_type": "execute_result",
          "data": {
            "text/plain": [
              "FreqDist({',': 30, 'the': 13, 'of': 12, 'and': 12, '.': 9, 'a': 9, 'to': 6, 'intelligence': 6, 'intelligent': 6, 'is': 5, ...})"
            ]
          },
          "metadata": {},
          "execution_count": 50
        }
      ]
    },
    {
      "cell_type": "code",
      "source": [
        "fdist['artificial']"
      ],
      "metadata": {
        "colab": {
          "base_uri": "https://localhost:8080/"
        },
        "id": "0Zlo5bJ-_5j6",
        "outputId": "9922b8cf-7d7b-490c-9485-aab51623021c"
      },
      "execution_count": 51,
      "outputs": [
        {
          "output_type": "execute_result",
          "data": {
            "text/plain": [
              "3"
            ]
          },
          "metadata": {},
          "execution_count": 51
        }
      ]
    },
    {
      "cell_type": "code",
      "source": [
        "len(fdist)"
      ],
      "metadata": {
        "colab": {
          "base_uri": "https://localhost:8080/"
        },
        "id": "MvLlVS-xAUK_",
        "outputId": "a2c66373-4a6c-4cd2-c380-13344f2eb406"
      },
      "execution_count": 52,
      "outputs": [
        {
          "output_type": "execute_result",
          "data": {
            "text/plain": [
              "121"
            ]
          },
          "metadata": {},
          "execution_count": 52
        }
      ]
    },
    {
      "cell_type": "code",
      "source": [
        "fdist_top10=fdist.most_common(10)"
      ],
      "metadata": {
        "id": "nxcU3MuSAXaP"
      },
      "execution_count": 53,
      "outputs": []
    },
    {
      "cell_type": "code",
      "source": [
        "fdist_top10"
      ],
      "metadata": {
        "colab": {
          "base_uri": "https://localhost:8080/"
        },
        "id": "HTjvyKIzFXnb",
        "outputId": "6fc81ac2-cc08-44cf-db97-c36d1b9a8d25"
      },
      "execution_count": 54,
      "outputs": [
        {
          "output_type": "execute_result",
          "data": {
            "text/plain": [
              "[(',', 30),\n",
              " ('the', 13),\n",
              " ('of', 12),\n",
              " ('and', 12),\n",
              " ('.', 9),\n",
              " ('a', 9),\n",
              " ('to', 6),\n",
              " ('intelligence', 6),\n",
              " ('intelligent', 6),\n",
              " ('is', 5)]"
            ]
          },
          "metadata": {},
          "execution_count": 54
        }
      ]
    },
    {
      "cell_type": "code",
      "source": [
        "AI_blankline=blankline_tokenize(AI)\n",
        "len(AI_blankline)"
      ],
      "metadata": {
        "colab": {
          "base_uri": "https://localhost:8080/"
        },
        "id": "TZRwpyXVFZnS",
        "outputId": "c87cabba-5e76-4353-f127-a7a7a931b5e0"
      },
      "execution_count": 55,
      "outputs": [
        {
          "output_type": "execute_result",
          "data": {
            "text/plain": [
              "3"
            ]
          },
          "metadata": {},
          "execution_count": 55
        }
      ]
    },
    {
      "cell_type": "code",
      "source": [
        "AI_blankline[1]"
      ],
      "metadata": {
        "colab": {
          "base_uri": "https://localhost:8080/",
          "height": 53
        },
        "id": "Ya0P3r_eFysw",
        "outputId": "ca12018e-76d3-4323-9bcb-b6b9017880ae"
      },
      "execution_count": 57,
      "outputs": [
        {
          "output_type": "execute_result",
          "data": {
            "text/plain": [
              "'Artificial Intelligence is a way of making a computer, a computer-controlled robot, or a software think intelligently, in the similar manner the intelligent humans think.'"
            ],
            "application/vnd.google.colaboratory.intrinsic+json": {
              "type": "string"
            }
          },
          "metadata": {},
          "execution_count": 57
        }
      ]
    },
    {
      "cell_type": "code",
      "source": [
        "from nltk.util import bigrams,trigrams,ngrams"
      ],
      "metadata": {
        "id": "mg19xhvSnJjv"
      },
      "execution_count": 58,
      "outputs": []
    },
    {
      "cell_type": "code",
      "source": [
        "quotes_token=nltk.word_tokenize(AI_blankline[1])\n",
        "quotes_token"
      ],
      "metadata": {
        "colab": {
          "base_uri": "https://localhost:8080/"
        },
        "id": "qsLctShLuday",
        "outputId": "1bebcc25-2f06-4890-f992-f2cdb00a42ca"
      },
      "execution_count": 59,
      "outputs": [
        {
          "output_type": "execute_result",
          "data": {
            "text/plain": [
              "['Artificial',\n",
              " 'Intelligence',\n",
              " 'is',\n",
              " 'a',\n",
              " 'way',\n",
              " 'of',\n",
              " 'making',\n",
              " 'a',\n",
              " 'computer',\n",
              " ',',\n",
              " 'a',\n",
              " 'computer-controlled',\n",
              " 'robot',\n",
              " ',',\n",
              " 'or',\n",
              " 'a',\n",
              " 'software',\n",
              " 'think',\n",
              " 'intelligently',\n",
              " ',',\n",
              " 'in',\n",
              " 'the',\n",
              " 'similar',\n",
              " 'manner',\n",
              " 'the',\n",
              " 'intelligent',\n",
              " 'humans',\n",
              " 'think',\n",
              " '.']"
            ]
          },
          "metadata": {},
          "execution_count": 59
        }
      ]
    },
    {
      "cell_type": "code",
      "source": [
        "quotes_bigrams=list(nltk.bigrams(quotes_token))\n",
        "quotes_bigrams"
      ],
      "metadata": {
        "colab": {
          "base_uri": "https://localhost:8080/"
        },
        "id": "h9Jfrbe4upyC",
        "outputId": "c805bbeb-88dc-4e08-fdfd-9097706fe177"
      },
      "execution_count": 60,
      "outputs": [
        {
          "output_type": "execute_result",
          "data": {
            "text/plain": [
              "[('Artificial', 'Intelligence'),\n",
              " ('Intelligence', 'is'),\n",
              " ('is', 'a'),\n",
              " ('a', 'way'),\n",
              " ('way', 'of'),\n",
              " ('of', 'making'),\n",
              " ('making', 'a'),\n",
              " ('a', 'computer'),\n",
              " ('computer', ','),\n",
              " (',', 'a'),\n",
              " ('a', 'computer-controlled'),\n",
              " ('computer-controlled', 'robot'),\n",
              " ('robot', ','),\n",
              " (',', 'or'),\n",
              " ('or', 'a'),\n",
              " ('a', 'software'),\n",
              " ('software', 'think'),\n",
              " ('think', 'intelligently'),\n",
              " ('intelligently', ','),\n",
              " (',', 'in'),\n",
              " ('in', 'the'),\n",
              " ('the', 'similar'),\n",
              " ('similar', 'manner'),\n",
              " ('manner', 'the'),\n",
              " ('the', 'intelligent'),\n",
              " ('intelligent', 'humans'),\n",
              " ('humans', 'think'),\n",
              " ('think', '.')]"
            ]
          },
          "metadata": {},
          "execution_count": 60
        }
      ]
    },
    {
      "cell_type": "code",
      "source": [
        "quotes_trigrams=list(nltk.trigrams(quotes_token))\n",
        "quotes_trigrams"
      ],
      "metadata": {
        "colab": {
          "base_uri": "https://localhost:8080/"
        },
        "id": "FfWeR1hlu5dS",
        "outputId": "8fb03e22-b7c7-40ef-c27c-27eb518a434f"
      },
      "execution_count": 61,
      "outputs": [
        {
          "output_type": "execute_result",
          "data": {
            "text/plain": [
              "[('Artificial', 'Intelligence', 'is'),\n",
              " ('Intelligence', 'is', 'a'),\n",
              " ('is', 'a', 'way'),\n",
              " ('a', 'way', 'of'),\n",
              " ('way', 'of', 'making'),\n",
              " ('of', 'making', 'a'),\n",
              " ('making', 'a', 'computer'),\n",
              " ('a', 'computer', ','),\n",
              " ('computer', ',', 'a'),\n",
              " (',', 'a', 'computer-controlled'),\n",
              " ('a', 'computer-controlled', 'robot'),\n",
              " ('computer-controlled', 'robot', ','),\n",
              " ('robot', ',', 'or'),\n",
              " (',', 'or', 'a'),\n",
              " ('or', 'a', 'software'),\n",
              " ('a', 'software', 'think'),\n",
              " ('software', 'think', 'intelligently'),\n",
              " ('think', 'intelligently', ','),\n",
              " ('intelligently', ',', 'in'),\n",
              " (',', 'in', 'the'),\n",
              " ('in', 'the', 'similar'),\n",
              " ('the', 'similar', 'manner'),\n",
              " ('similar', 'manner', 'the'),\n",
              " ('manner', 'the', 'intelligent'),\n",
              " ('the', 'intelligent', 'humans'),\n",
              " ('intelligent', 'humans', 'think'),\n",
              " ('humans', 'think', '.')]"
            ]
          },
          "metadata": {},
          "execution_count": 61
        }
      ]
    },
    {
      "cell_type": "code",
      "source": [
        "quotes_ngrams=list(nltk.ngrams(quotes_token,6))\n",
        "quotes_ngrams"
      ],
      "metadata": {
        "colab": {
          "base_uri": "https://localhost:8080/"
        },
        "id": "G0HtmFO1u_Kx",
        "outputId": "52ddd8d5-b526-4693-e0a2-48b0baf58658"
      },
      "execution_count": 63,
      "outputs": [
        {
          "output_type": "execute_result",
          "data": {
            "text/plain": [
              "[('Artificial', 'Intelligence', 'is', 'a', 'way', 'of'),\n",
              " ('Intelligence', 'is', 'a', 'way', 'of', 'making'),\n",
              " ('is', 'a', 'way', 'of', 'making', 'a'),\n",
              " ('a', 'way', 'of', 'making', 'a', 'computer'),\n",
              " ('way', 'of', 'making', 'a', 'computer', ','),\n",
              " ('of', 'making', 'a', 'computer', ',', 'a'),\n",
              " ('making', 'a', 'computer', ',', 'a', 'computer-controlled'),\n",
              " ('a', 'computer', ',', 'a', 'computer-controlled', 'robot'),\n",
              " ('computer', ',', 'a', 'computer-controlled', 'robot', ','),\n",
              " (',', 'a', 'computer-controlled', 'robot', ',', 'or'),\n",
              " ('a', 'computer-controlled', 'robot', ',', 'or', 'a'),\n",
              " ('computer-controlled', 'robot', ',', 'or', 'a', 'software'),\n",
              " ('robot', ',', 'or', 'a', 'software', 'think'),\n",
              " (',', 'or', 'a', 'software', 'think', 'intelligently'),\n",
              " ('or', 'a', 'software', 'think', 'intelligently', ','),\n",
              " ('a', 'software', 'think', 'intelligently', ',', 'in'),\n",
              " ('software', 'think', 'intelligently', ',', 'in', 'the'),\n",
              " ('think', 'intelligently', ',', 'in', 'the', 'similar'),\n",
              " ('intelligently', ',', 'in', 'the', 'similar', 'manner'),\n",
              " (',', 'in', 'the', 'similar', 'manner', 'the'),\n",
              " ('in', 'the', 'similar', 'manner', 'the', 'intelligent'),\n",
              " ('the', 'similar', 'manner', 'the', 'intelligent', 'humans'),\n",
              " ('similar', 'manner', 'the', 'intelligent', 'humans', 'think'),\n",
              " ('manner', 'the', 'intelligent', 'humans', 'think', '.')]"
            ]
          },
          "metadata": {},
          "execution_count": 63
        }
      ]
    },
    {
      "cell_type": "code",
      "source": [
        "stem_word=['give','given','giving','gave']"
      ],
      "metadata": {
        "id": "SKVWNEiavbgd"
      },
      "execution_count": 65,
      "outputs": []
    },
    {
      "cell_type": "code",
      "source": [
        "from nltk.stem import PorterStemmer\n",
        "pst=PorterStemmer()\n",
        "for words in stem_word:\n",
        "  print(words+\" : \"+pst.stem(words))\n"
      ],
      "metadata": {
        "colab": {
          "base_uri": "https://localhost:8080/"
        },
        "id": "5YjiNyqfv0cV",
        "outputId": "970d4c25-1b5a-4f85-b347-ead6506d799b"
      },
      "execution_count": 66,
      "outputs": [
        {
          "output_type": "stream",
          "name": "stdout",
          "text": [
            "give : give\n",
            "given : given\n",
            "giving : give\n",
            "gave : gave\n"
          ]
        }
      ]
    },
    {
      "cell_type": "code",
      "source": [
        "from nltk.stem import LancasterStemmer\n",
        "lst=LancasterStemmer()\n",
        "for words in stem_word:\n",
        "  print(words+\" : \"+lst.stem(words))\n"
      ],
      "metadata": {
        "colab": {
          "base_uri": "https://localhost:8080/"
        },
        "id": "65x01PpdwFod",
        "outputId": "537115e7-ccb3-43d7-892c-f4e4520dd2a8"
      },
      "execution_count": 67,
      "outputs": [
        {
          "output_type": "stream",
          "name": "stdout",
          "text": [
            "give : giv\n",
            "given : giv\n",
            "giving : giv\n",
            "gave : gav\n"
          ]
        }
      ]
    },
    {
      "cell_type": "code",
      "source": [
        "from nltk.stem import SnowballStemmer\n",
        "sst=SnowballStemmer('english')\n",
        "for words in stem_word:\n",
        "  print(words+\" : \"+sst.stem(words))"
      ],
      "metadata": {
        "colab": {
          "base_uri": "https://localhost:8080/"
        },
        "id": "_LmGHr6hwORV",
        "outputId": "86e24be0-1d77-426b-e687-572df0acfc52"
      },
      "execution_count": 69,
      "outputs": [
        {
          "output_type": "stream",
          "name": "stdout",
          "text": [
            "give : give\n",
            "given : given\n",
            "giving : give\n",
            "gave : gave\n"
          ]
        }
      ]
    },
    {
      "cell_type": "code",
      "source": [
        "from nltk.stem import WordNetLemmatizer\n",
        "wnl=WordNetLemmatizer()\n",
        "for words in stem_word:\n",
        "  print(words+\" : \"+wnl.lemmatize(words))"
      ],
      "metadata": {
        "colab": {
          "base_uri": "https://localhost:8080/"
        },
        "id": "oWEIG1hgwbHl",
        "outputId": "afe36f33-e692-4094-bf73-c3381ab7f3f7"
      },
      "execution_count": 70,
      "outputs": [
        {
          "output_type": "stream",
          "name": "stdout",
          "text": [
            "give : give\n",
            "given : given\n",
            "giving : giving\n",
            "gave : gave\n"
          ]
        }
      ]
    },
    {
      "cell_type": "code",
      "source": [
        "from nltk.corpus import stopwords"
      ],
      "metadata": {
        "id": "A7ox2ENyxYlR"
      },
      "execution_count": 71,
      "outputs": []
    },
    {
      "cell_type": "code",
      "source": [
        "import re\n",
        "regex_pattern = re.compile(r'[-.?,!:;()|0-9]')"
      ],
      "metadata": {
        "id": "S2K6zd0qxoM9"
      },
      "execution_count": 77,
      "outputs": []
    },
    {
      "cell_type": "code",
      "source": [
        "from nltk.corpus.reader.tagged import regexp_span_tokenize\n",
        "post_regex=[]\n",
        "for words in AI_word_tokens:\n",
        "  word=regex_pattern.sub(\"\",words)\n",
        "  if len(word)>0:\n",
        "    post_regex.append(word)"
      ],
      "metadata": {
        "id": "YgRx8j20yPiE"
      },
      "execution_count": 78,
      "outputs": []
    },
    {
      "cell_type": "code",
      "source": [
        "post_regex"
      ],
      "metadata": {
        "colab": {
          "base_uri": "https://localhost:8080/"
        },
        "id": "YY-9EcE-0Eqa",
        "outputId": "5ae69c44-0a95-40fc-8cc8-59b2c6a67bb7"
      },
      "execution_count": 79,
      "outputs": [
        {
          "output_type": "execute_result",
          "data": {
            "text/plain": [
              "['According',\n",
              " 'to',\n",
              " 'the',\n",
              " 'father',\n",
              " 'of',\n",
              " 'Artificial',\n",
              " 'Intelligence',\n",
              " 'John',\n",
              " 'McCarthy',\n",
              " 'it',\n",
              " 'is',\n",
              " '“',\n",
              " 'The',\n",
              " 'science',\n",
              " 'and',\n",
              " 'engineering',\n",
              " 'of',\n",
              " 'making',\n",
              " 'intelligent',\n",
              " 'machines',\n",
              " 'especially',\n",
              " 'intelligent',\n",
              " 'computer',\n",
              " 'programs',\n",
              " '”',\n",
              " 'Artificial',\n",
              " 'Intelligence',\n",
              " 'is',\n",
              " 'a',\n",
              " 'way',\n",
              " 'of',\n",
              " 'making',\n",
              " 'a',\n",
              " 'computer',\n",
              " 'a',\n",
              " 'computercontrolled',\n",
              " 'robot',\n",
              " 'or',\n",
              " 'a',\n",
              " 'software',\n",
              " 'think',\n",
              " 'intelligently',\n",
              " 'in',\n",
              " 'the',\n",
              " 'similar',\n",
              " 'manner',\n",
              " 'the',\n",
              " 'intelligent',\n",
              " 'humans',\n",
              " 'think',\n",
              " 'AI',\n",
              " 'is',\n",
              " 'accomplished',\n",
              " 'by',\n",
              " 'studying',\n",
              " 'how',\n",
              " 'human',\n",
              " 'brain',\n",
              " 'thinks',\n",
              " 'and',\n",
              " 'how',\n",
              " 'humans',\n",
              " 'learn',\n",
              " 'decide',\n",
              " 'and',\n",
              " 'work',\n",
              " 'while',\n",
              " 'trying',\n",
              " 'to',\n",
              " 'solve',\n",
              " 'a',\n",
              " 'problem',\n",
              " 'and',\n",
              " 'then',\n",
              " 'using',\n",
              " 'the',\n",
              " 'outcomes',\n",
              " 'of',\n",
              " 'this',\n",
              " 'study',\n",
              " 'as',\n",
              " 'a',\n",
              " 'basis',\n",
              " 'of',\n",
              " 'developing',\n",
              " 'intelligent',\n",
              " 'software',\n",
              " 'and',\n",
              " 'systems',\n",
              " 'While',\n",
              " 'exploiting',\n",
              " 'the',\n",
              " 'power',\n",
              " 'of',\n",
              " 'the',\n",
              " 'computer',\n",
              " 'systems',\n",
              " 'the',\n",
              " 'curiosity',\n",
              " 'of',\n",
              " 'human',\n",
              " 'lead',\n",
              " 'him',\n",
              " 'to',\n",
              " 'wonder',\n",
              " '“',\n",
              " 'Can',\n",
              " 'a',\n",
              " 'machine',\n",
              " 'think',\n",
              " 'and',\n",
              " 'behave',\n",
              " 'like',\n",
              " 'humans',\n",
              " 'do',\n",
              " '”',\n",
              " 'Thus',\n",
              " 'the',\n",
              " 'development',\n",
              " 'of',\n",
              " 'AI',\n",
              " 'started',\n",
              " 'with',\n",
              " 'the',\n",
              " 'intention',\n",
              " 'of',\n",
              " 'creating',\n",
              " 'similar',\n",
              " 'intelligence',\n",
              " 'in',\n",
              " 'machines',\n",
              " 'that',\n",
              " 'we',\n",
              " 'find',\n",
              " 'and',\n",
              " 'regard',\n",
              " 'high',\n",
              " 'in',\n",
              " 'humans',\n",
              " 'To',\n",
              " 'Create',\n",
              " 'Expert',\n",
              " 'Systems',\n",
              " '−',\n",
              " 'The',\n",
              " 'systems',\n",
              " 'which',\n",
              " 'exhibit',\n",
              " 'intelligent',\n",
              " 'behavior',\n",
              " 'learn',\n",
              " 'demonstrate',\n",
              " 'explain',\n",
              " 'and',\n",
              " 'advice',\n",
              " 'its',\n",
              " 'users',\n",
              " 'To',\n",
              " 'Implement',\n",
              " 'Human',\n",
              " 'Intelligence',\n",
              " 'in',\n",
              " 'Machines',\n",
              " '−',\n",
              " 'Creating',\n",
              " 'systems',\n",
              " 'that',\n",
              " 'understand',\n",
              " 'think',\n",
              " 'learn',\n",
              " 'and',\n",
              " 'behave',\n",
              " 'like',\n",
              " 'humans',\n",
              " 'Artificial',\n",
              " 'intelligence',\n",
              " 'is',\n",
              " 'a',\n",
              " 'science',\n",
              " 'and',\n",
              " 'technology',\n",
              " 'based',\n",
              " 'on',\n",
              " 'disciplines',\n",
              " 'such',\n",
              " 'as',\n",
              " 'Computer',\n",
              " 'Science',\n",
              " 'Biology',\n",
              " 'Psychology',\n",
              " 'Linguistics',\n",
              " 'Mathematics',\n",
              " 'and',\n",
              " 'Engineering',\n",
              " 'A',\n",
              " 'major',\n",
              " 'thrust',\n",
              " 'of',\n",
              " 'AI',\n",
              " 'is',\n",
              " 'in',\n",
              " 'the',\n",
              " 'development',\n",
              " 'of',\n",
              " 'computer',\n",
              " 'functions',\n",
              " 'associated',\n",
              " 'with',\n",
              " 'human',\n",
              " 'intelligence',\n",
              " 'such',\n",
              " 'as',\n",
              " 'reasoning',\n",
              " 'learning',\n",
              " 'and',\n",
              " 'problem',\n",
              " 'solving',\n",
              " 'Out',\n",
              " 'of',\n",
              " 'the',\n",
              " 'following',\n",
              " 'areas',\n",
              " 'one',\n",
              " 'or',\n",
              " 'multiple',\n",
              " 'areas',\n",
              " 'can',\n",
              " 'contribute',\n",
              " 'to',\n",
              " 'build',\n",
              " 'an',\n",
              " 'intelligent',\n",
              " 'system']"
            ]
          },
          "metadata": {},
          "execution_count": 79
        }
      ]
    },
    {
      "cell_type": "code",
      "source": [],
      "metadata": {
        "id": "9G0kyq3U0I5Z"
      },
      "execution_count": null,
      "outputs": []
    }
  ]
}